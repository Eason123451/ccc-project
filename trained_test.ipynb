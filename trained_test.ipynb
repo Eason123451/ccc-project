{
 "cells": [
  {
   "cell_type": "code",
   "execution_count": 1,
   "id": "c702c3a1-4794-4a03-a2b4-b8c268d43c29",
   "metadata": {
    "tags": []
   },
   "outputs": [
    {
     "name": "stdout",
     "output_type": "stream",
     "text": [
      "Accuracy: 0.0\n",
      "              precision    recall  f1-score   support\n",
      "\n",
      " celebration       0.00      0.00      0.00       0.0\n",
      "        news       0.00      0.00      0.00       1.0\n",
      "\n",
      "    accuracy                           0.00       1.0\n",
      "   macro avg       0.00      0.00      0.00       1.0\n",
      "weighted avg       0.00      0.00      0.00       1.0\n",
      "\n",
      "Content: Breaking news: Major earthquake hits the city\n",
      "Predicted Category: review\n",
      "\n",
      "Content: Happy birthday to you! Wishing you a wonderful day!\n",
      "Predicted Category: sports\n",
      "\n",
      "Content: Match review: The game was thrilling with both teams giving their best\n",
      "Predicted Category: sports\n",
      "\n"
     ]
    },
    {
     "name": "stderr",
     "output_type": "stream",
     "text": [
      "/opt/anaconda3/lib/python3.11/site-packages/sklearn/metrics/_classification.py:1344: UndefinedMetricWarning: Precision and F-score are ill-defined and being set to 0.0 in labels with no predicted samples. Use `zero_division` parameter to control this behavior.\n",
      "  _warn_prf(average, modifier, msg_start, len(result))\n",
      "/opt/anaconda3/lib/python3.11/site-packages/sklearn/metrics/_classification.py:1344: UndefinedMetricWarning: Recall and F-score are ill-defined and being set to 0.0 in labels with no true samples. Use `zero_division` parameter to control this behavior.\n",
      "  _warn_prf(average, modifier, msg_start, len(result))\n",
      "/opt/anaconda3/lib/python3.11/site-packages/sklearn/metrics/_classification.py:1344: UndefinedMetricWarning: Precision and F-score are ill-defined and being set to 0.0 in labels with no predicted samples. Use `zero_division` parameter to control this behavior.\n",
      "  _warn_prf(average, modifier, msg_start, len(result))\n",
      "/opt/anaconda3/lib/python3.11/site-packages/sklearn/metrics/_classification.py:1344: UndefinedMetricWarning: Recall and F-score are ill-defined and being set to 0.0 in labels with no true samples. Use `zero_division` parameter to control this behavior.\n",
      "  _warn_prf(average, modifier, msg_start, len(result))\n",
      "/opt/anaconda3/lib/python3.11/site-packages/sklearn/metrics/_classification.py:1344: UndefinedMetricWarning: Precision and F-score are ill-defined and being set to 0.0 in labels with no predicted samples. Use `zero_division` parameter to control this behavior.\n",
      "  _warn_prf(average, modifier, msg_start, len(result))\n",
      "/opt/anaconda3/lib/python3.11/site-packages/sklearn/metrics/_classification.py:1344: UndefinedMetricWarning: Recall and F-score are ill-defined and being set to 0.0 in labels with no true samples. Use `zero_division` parameter to control this behavior.\n",
      "  _warn_prf(average, modifier, msg_start, len(result))\n"
     ]
    }
   ],
   "source": [
    "from sklearn.feature_extraction.text import TfidfVectorizer\n",
    "from sklearn.naive_bayes import MultinomialNB\n",
    "from sklearn.pipeline import make_pipeline\n",
    "from sklearn.model_selection import train_test_split\n",
    "from sklearn import metrics\n",
    "\n",
    "data = [\n",
    "    {'content': 'https://www.europesays.com/1221829/ Gratulerer med dagen!🇳🇴🇳🇴 #norway', 'category': 'celebration'},\n",
    "    {'content': 'Body Shop stores have closed, but we can’t let its products disappear...', 'category': 'news'},\n",
    "    {'content': 'Thelma the Unicorn review – sunny Netflix cartoon offers simple pleasures...', 'category': 'review'},\n",
    "    {'content': 'Brighton’s Katie Robinson: ‘I want to be playing with and against the best’...', 'category': 'sports'},\n",
    "    {'content': 'Week in wildlife – in pictures: amorous frogs, battling stallions...', 'category': 'nature'}\n",
    "]\n",
    "\n",
    "texts = [item['content'] for item in data]\n",
    "labels = [item['category'] for item in data]\n",
    "\n",
    "X_train, X_test, y_train, y_test = train_test_split(texts, labels, test_size=0.2, random_state=42)\n",
    "\n",
    "model = make_pipeline(TfidfVectorizer(), MultinomialNB())\n",
    "\n",
    "model.fit(X_train, y_train)\n",
    "\n",
    "predicted_labels = model.predict(X_test)\n",
    "\n",
    "accuracy = metrics.accuracy_score(y_test, predicted_labels)\n",
    "print(f\"Accuracy: {accuracy}\")\n",
    "print(metrics.classification_report(y_test, predicted_labels))\n",
    "\n",
    "new_contents = [\n",
    "    'Breaking news: Major earthquake hits the city',\n",
    "    'Happy birthday to you! Wishing you a wonderful day!',\n",
    "    'Match review: The game was thrilling with both teams giving their best'\n",
    "]\n",
    "\n",
    "predicted_new_labels = model.predict(new_contents)\n",
    "for content, label in zip(new_contents, predicted_new_labels):\n",
    "    print(f\"Content: {content}\\nPredicted Category: {label}\\n\")\n",
    "\n"
   ]
  }
 ],
 "metadata": {
  "kernelspec": {
   "display_name": "Python 3 (ipykernel)",
   "language": "python",
   "name": "python3"
  },
  "language_info": {
   "codemirror_mode": {
    "name": "ipython",
    "version": 3
   },
   "file_extension": ".py",
   "mimetype": "text/x-python",
   "name": "python",
   "nbconvert_exporter": "python",
   "pygments_lexer": "ipython3",
   "version": "3.11.7"
  }
 },
 "nbformat": 4,
 "nbformat_minor": 5
}
