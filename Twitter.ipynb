{
 "cells": [
  {
   "cell_type": "code",
   "execution_count": 1,
   "metadata": {},
   "outputs": [],
   "source": [
    "import numpy as np\n",
    "import pandas as pd\n",
    "import re"
   ]
  },
  {
   "cell_type": "code",
   "execution_count": 2,
   "metadata": {},
   "outputs": [
    {
     "name": "stdout",
     "output_type": "stream",
     "text": [
      "8158852\n",
      "                 Created_At  Sentiment   \n",
      "0  2021-06-21T03:18:59.000Z   0.714286  \\\n",
      "1  2021-06-21T03:21:05.000Z   0.363636   \n",
      "2  2021-06-21T10:23:48.000Z   0.000000   \n",
      "3  2021-06-21T10:56:40.000Z   0.250000   \n",
      "4  2021-06-21T11:09:17.000Z   0.000000   \n",
      "\n",
      "                                                Text  \n",
      "0                               Such a cute pupper 😍  \n",
      "1  Nawww thanks! 🥰 *Nuzzles* right back at ya pup! 😝  \n",
      "2  Just wondered if the peregrines been named yet...  \n",
      "3    Thanks. Sorry missed that. Great result though.  \n",
      "4  Can you point to some of information about thi...  \n"
     ]
    }
   ],
   "source": [
    "# Load the data\n",
    "data = pd.read_csv('tweets_100Gb_filtered.csv')\n",
    "print(data.shape[0])\n",
    "\n",
    "# Display the first 5 rows of the data\n",
    "print(data.head())"
   ]
  },
  {
   "cell_type": "code",
   "execution_count": 3,
   "metadata": {},
   "outputs": [
    {
     "name": "stdout",
     "output_type": "stream",
     "text": [
      "                 Created_At  Sentiment   \n",
      "0  2021-06-21T03:18:59.000Z   0.714286  \\\n",
      "1  2021-06-21T03:21:05.000Z   0.363636   \n",
      "3  2021-06-21T10:56:40.000Z   0.250000   \n",
      "5  2021-06-21T23:36:59.000Z  -0.095238   \n",
      "6  2021-06-21T04:14:46.000Z   0.300000   \n",
      "\n",
      "                                                Text  \n",
      "0                                Such a cute pupper   \n",
      "1    Nawww thanks!  *Nuzzles* right back at ya pup!   \n",
      "3    Thanks. Sorry missed that. Great result though.  \n",
      "5  It's bizarre, who says 3 days is enough to pro...  \n",
      "6   Don't you just love black and white photography?  \n",
      "4318767\n"
     ]
    }
   ],
   "source": [
    "# Remove the rows with sentiment of 0.0 and remove emojis\n",
    "data = data[data['Sentiment'] != 0.0]\n",
    "\n",
    "# Function to remove emojis from a string\n",
    "def remove_emojis(text):\n",
    "    emoji_pattern = re.compile(\n",
    "        pattern = r'['\n",
    "        r'\\U0001F600-\\U0001F64F'  # Emoticons\n",
    "        r'\\U0001F300-\\U0001F5FF'  # Symbols & pictographs\n",
    "        r'\\U0001F680-\\U0001F6FF'  # Transport & map symbols\n",
    "        r'\\U0001F700-\\U0001F77F'  # Alchemical symbols\n",
    "        r'\\U0001F780-\\U0001F7FF'  # Geometric shapes extended\n",
    "        r'\\U0001F800-\\U0001F8FF'  # Supplemental arrows-C\n",
    "        r'\\U0001F900-\\U0001F9FF'  # Supplemental symbols & pictographs\n",
    "        r'\\U0001FA00-\\U0001FA6F'  # Chess symbols, symbols & pictographs extended-A\n",
    "        r'\\U0001FA70-\\U0001FAFF'  # Symbols for legacy computing\n",
    "        r'\\U0001FB00-\\U0001FBFF'  # Other miscellaneous symbols\n",
    "        r'\\U00002600-\\U000027BF'  # Miscellaneous symbols\n",
    "        r'\\U00002B50-\\U00002BFF'  # Stars, arrows, and other symbols\n",
    "        r'\\U0001F1E6-\\U0001F1FF'  # Regional indicator symbols (country flags)\n",
    "        r'\\U0001F250-\\U0001F251'  # Enclosed characters\n",
    "        r'\\U0001F004-\\U0001F0CF'  # Mahjong tiles and playing cards\n",
    "        r']+',\n",
    "        flags=re.UNICODE\n",
    "    )\n",
    "    return emoji_pattern.sub('', text)\n",
    "\n",
    "# Remove emojis from the 'Tweet' column\n",
    "data['Text'] = data['Text'].apply(remove_emojis)\n",
    "\n",
    "# Display the first 5 rows of the data  \n",
    "print(data.head())\n",
    "\n",
    "# Count the number of rows in the data\n",
    "print(data.shape[0])"
   ]
  },
  {
   "cell_type": "code",
   "execution_count": 4,
   "metadata": {},
   "outputs": [],
   "source": [
    "# Export the data to a new JSON file\n",
    "data.to_json('tweets_cleaned.json', orient='records', lines=True)"
   ]
  },
  {
   "cell_type": "code",
   "execution_count": 5,
   "metadata": {},
   "outputs": [],
   "source": [
    "# Find the average sentiment of the tweets\n",
    "average_sentiment = data['Sentiment'].mean()"
   ]
  }
 ],
 "metadata": {
  "kernelspec": {
   "display_name": "Python 3",
   "language": "python",
   "name": "python3"
  },
  "language_info": {
   "codemirror_mode": {
    "name": "ipython",
    "version": 3
   },
   "file_extension": ".py",
   "mimetype": "text/x-python",
   "name": "python",
   "nbconvert_exporter": "python",
   "pygments_lexer": "ipython3",
   "version": "3.11.2"
  },
  "orig_nbformat": 4
 },
 "nbformat": 4,
 "nbformat_minor": 2
}
