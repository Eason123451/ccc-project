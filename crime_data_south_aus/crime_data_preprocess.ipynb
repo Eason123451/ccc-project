{
 "cells": [
  {
   "cell_type": "code",
   "execution_count": 1,
   "id": "deb1fb3d",
   "metadata": {},
   "outputs": [],
   "source": [
    "import os\n",
    "import pandas as pd\n",
    "\n",
    "directory = 'C://Users/EvaNg/Downloads/crime_data'\n",
    "\n",
    "# Initialize an empty DataFrame to store concatenated data\n",
    "combined_data = pd.DataFrame()\n",
    "\n",
    "# Iterate over each file in the directory\n",
    "for filename in os.listdir(directory):\n",
    "    if filename.endswith(\"data_sa_crime.csv\"):\n",
    "        # Extract year from filename\n",
    "        year = filename[:4]\n",
    "        \n",
    "        # Read CSV file into a DataFrame\n",
    "        filepath = os.path.join(directory, filename)\n",
    "        data = pd.read_csv(filepath)\n",
    "        \n",
    "        # Concatenate data to the combined DataFrame\n",
    "        combined_data = pd.concat([combined_data, data], ignore_index=True)"
   ]
  },
  {
   "cell_type": "code",
   "execution_count": 2,
   "id": "4d90190c",
   "metadata": {},
   "outputs": [],
   "source": [
    "combined_data['Reported Date'] = pd.to_datetime(combined_data['Reported Date'], format='%d/%m/%Y')"
   ]
  },
  {
   "cell_type": "code",
   "execution_count": 3,
   "id": "ea5e0fe5",
   "metadata": {
    "scrolled": true
   },
   "outputs": [],
   "source": [
    "combined_data_sorted = combined_data.reset_index(drop=True)[::-1]"
   ]
  },
  {
   "cell_type": "code",
   "execution_count": 4,
   "id": "6d3961e7",
   "metadata": {},
   "outputs": [
    {
     "data": {
      "text/html": [
       "<div>\n",
       "<style scoped>\n",
       "    .dataframe tbody tr th:only-of-type {\n",
       "        vertical-align: middle;\n",
       "    }\n",
       "\n",
       "    .dataframe tbody tr th {\n",
       "        vertical-align: top;\n",
       "    }\n",
       "\n",
       "    .dataframe thead th {\n",
       "        text-align: right;\n",
       "    }\n",
       "</style>\n",
       "<table border=\"1\" class=\"dataframe\">\n",
       "  <thead>\n",
       "    <tr style=\"text-align: right;\">\n",
       "      <th></th>\n",
       "      <th>Reported Date</th>\n",
       "      <th>Suburb - Incident</th>\n",
       "      <th>Postcode - Incident</th>\n",
       "      <th>Offence Level 1 Description</th>\n",
       "      <th>Offence Level 2 Description</th>\n",
       "      <th>Offence Level 3 Description</th>\n",
       "      <th>Offence count</th>\n",
       "    </tr>\n",
       "  </thead>\n",
       "  <tbody>\n",
       "    <tr>\n",
       "      <th>1027939</th>\n",
       "      <td>2023-06-30</td>\n",
       "      <td>NaN</td>\n",
       "      <td>NaN</td>\n",
       "      <td>OFFENCES AGAINST THE PERSON</td>\n",
       "      <td>OTHER OFFENCES AGAINST THE PERSON</td>\n",
       "      <td>Abduction, harassment and other offences</td>\n",
       "      <td>1.0</td>\n",
       "    </tr>\n",
       "    <tr>\n",
       "      <th>1027938</th>\n",
       "      <td>2023-06-30</td>\n",
       "      <td>NaN</td>\n",
       "      <td>NaN</td>\n",
       "      <td>OFFENCES AGAINST PROPERTY</td>\n",
       "      <td>THEFT AND RELATED OFFENCES</td>\n",
       "      <td>Theft from shop</td>\n",
       "      <td>1.0</td>\n",
       "    </tr>\n",
       "    <tr>\n",
       "      <th>1027937</th>\n",
       "      <td>2023-06-30</td>\n",
       "      <td>WYNN VALE</td>\n",
       "      <td>5127</td>\n",
       "      <td>OFFENCES AGAINST THE PERSON</td>\n",
       "      <td>ACTS INTENDED TO CAUSE INJURY</td>\n",
       "      <td>Serious Assault resulting in injury</td>\n",
       "      <td>1.0</td>\n",
       "    </tr>\n",
       "    <tr>\n",
       "      <th>1027936</th>\n",
       "      <td>2023-06-30</td>\n",
       "      <td>WOODVILLE SOUTH</td>\n",
       "      <td>5011</td>\n",
       "      <td>OFFENCES AGAINST THE PERSON</td>\n",
       "      <td>ACTS INTENDED TO CAUSE INJURY</td>\n",
       "      <td>Common Assault</td>\n",
       "      <td>1.0</td>\n",
       "    </tr>\n",
       "    <tr>\n",
       "      <th>1027935</th>\n",
       "      <td>2023-06-30</td>\n",
       "      <td>WOODVILLE SOUTH</td>\n",
       "      <td>5011</td>\n",
       "      <td>OFFENCES AGAINST PROPERTY</td>\n",
       "      <td>THEFT AND RELATED OFFENCES</td>\n",
       "      <td>Other theft</td>\n",
       "      <td>1.0</td>\n",
       "    </tr>\n",
       "  </tbody>\n",
       "</table>\n",
       "</div>"
      ],
      "text/plain": [
       "        Reported Date Suburb - Incident Postcode - Incident  \\\n",
       "1027939    2023-06-30               NaN                 NaN   \n",
       "1027938    2023-06-30               NaN                 NaN   \n",
       "1027937    2023-06-30         WYNN VALE                5127   \n",
       "1027936    2023-06-30   WOODVILLE SOUTH                5011   \n",
       "1027935    2023-06-30   WOODVILLE SOUTH                5011   \n",
       "\n",
       "         Offence Level 1 Description        Offence Level 2 Description  \\\n",
       "1027939  OFFENCES AGAINST THE PERSON  OTHER OFFENCES AGAINST THE PERSON   \n",
       "1027938    OFFENCES AGAINST PROPERTY         THEFT AND RELATED OFFENCES   \n",
       "1027937  OFFENCES AGAINST THE PERSON      ACTS INTENDED TO CAUSE INJURY   \n",
       "1027936  OFFENCES AGAINST THE PERSON      ACTS INTENDED TO CAUSE INJURY   \n",
       "1027935    OFFENCES AGAINST PROPERTY         THEFT AND RELATED OFFENCES   \n",
       "\n",
       "                      Offence Level 3 Description  Offence count  \n",
       "1027939  Abduction, harassment and other offences            1.0  \n",
       "1027938                           Theft from shop            1.0  \n",
       "1027937       Serious Assault resulting in injury            1.0  \n",
       "1027936                            Common Assault            1.0  \n",
       "1027935                               Other theft            1.0  "
      ]
     },
     "execution_count": 4,
     "metadata": {},
     "output_type": "execute_result"
    }
   ],
   "source": [
    "combined_data_sorted.head(5)"
   ]
  },
  {
   "cell_type": "code",
   "execution_count": 9,
   "id": "4a59b25b",
   "metadata": {},
   "outputs": [
    {
     "name": "stdout",
     "output_type": "stream",
     "text": [
      "                   Column Name  Null Count\n",
      "0                Reported Date           9\n",
      "1            Suburb - Incident        2830\n",
      "2          Postcode - Incident        4663\n",
      "3  Offence Level 1 Description           9\n",
      "4  Offence Level 2 Description           9\n",
      "5  Offence Level 3 Description           9\n",
      "6                Offence count           9\n"
     ]
    }
   ],
   "source": [
    "# Assuming df is your DataFrame\n",
    "null_stats = combined_data_sorted.isnull().sum()\n",
    "\n",
    "# Create a DataFrame to display null value counts for each column\n",
    "null_table = pd.DataFrame({\n",
    "    'Column Name': null_stats.index,\n",
    "    'Null Count': null_stats.values\n",
    "})\n",
    "print(null_table)"
   ]
  },
  {
   "cell_type": "code",
   "execution_count": 11,
   "id": "e753e879",
   "metadata": {},
   "outputs": [
    {
     "name": "stdout",
     "output_type": "stream",
     "text": [
      "Reported Date                  0.000876\n",
      "Suburb - Incident              0.275308\n",
      "Postcode - Incident            0.453626\n",
      "Offence Level 1 Description    0.000876\n",
      "Offence Level 2 Description    0.000876\n",
      "Offence Level 3 Description    0.000876\n",
      "Offence count                  0.000876\n",
      "dtype: float64\n"
     ]
    }
   ],
   "source": [
    "# Calculate the percentage of null values\n",
    "null_percentage = (combined_data_sorted.isnull().sum() / len(combined_data_sorted)) * 100\n",
    "\n",
    "print(null_percentage)\n"
   ]
  },
  {
   "cell_type": "code",
   "execution_count": 12,
   "id": "3e3953d3",
   "metadata": {},
   "outputs": [
    {
     "name": "stdout",
     "output_type": "stream",
     "text": [
      "Reported Date                     0\n",
      "Suburb - Incident              2821\n",
      "Postcode - Incident            4654\n",
      "Offence Level 1 Description       0\n",
      "Offence Level 2 Description       0\n",
      "Offence Level 3 Description       0\n",
      "Offence count                     0\n",
      "dtype: int64\n"
     ]
    }
   ],
   "source": [
    "cleaned_df = combined_data_sorted.dropna(how='all')\n",
    "null_stats = cleaned_df.isnull().sum()\n",
    "print(null_stats)"
   ]
  },
  {
   "cell_type": "code",
   "execution_count": 13,
   "id": "006a7cd7",
   "metadata": {},
   "outputs": [],
   "source": [
    "# Save the combined DataFrame to a new CSV file\n",
    "cleaned_df.to_csv('cleaned_combined_crime_data.csv', index=False)"
   ]
  },
  {
   "cell_type": "code",
   "execution_count": null,
   "id": "d97ce524",
   "metadata": {},
   "outputs": [],
   "source": []
  }
 ],
 "metadata": {
  "kernelspec": {
   "display_name": "Python 3 (ipykernel)",
   "language": "python",
   "name": "python3"
  },
  "language_info": {
   "codemirror_mode": {
    "name": "ipython",
    "version": 3
   },
   "file_extension": ".py",
   "mimetype": "text/x-python",
   "name": "python",
   "nbconvert_exporter": "python",
   "pygments_lexer": "ipython3",
   "version": "3.9.13"
  }
 },
 "nbformat": 4,
 "nbformat_minor": 5
}
