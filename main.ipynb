{
 "cells": [
  {
   "cell_type": "code",
   "execution_count": 2,
   "id": "c162825b-cca3-4b51-83d2-a8c3f344f3fc",
   "metadata": {},
   "outputs": [],
   "source": [
    "from transformers import pipeline\n",
    "import requests\n",
    "import string\n",
    "from nltk.stem import PorterStemmer\n",
    "from nltk.tokenize import word_tokenize\n",
    "import nltk\n",
    "\n",
    "from mostodon import mastodon\n",
    "from heat_map import heat_map\n",
    "from get_tweets_sentiment_url import plot_combined_sentiment_and_tweets\n",
    "from get_viccrime_sentiment_url import plot_crime_sentiment_url\n",
    "from get_interesting_day_url import plot_sentiment_distribution, sample_crime_busiest_tweets, sample_crime_quietest_tweets\n"
   ]
  },
  {
   "cell_type": "code",
   "execution_count": 3,
   "id": "f59be567-fc0d-443b-98ae-9553d8647ff3",
   "metadata": {},
   "outputs": [],
   "source": [
    "def main(paras):\n",
    "    plot_combined_sentiment_and_tweets()\n",
    "    plot_sentiment_distribution()\n",
    "    plot_crime_sentiment_url()\n",
    "    sample_crime_busiest_tweets()\n",
    "    sample_crime_quietest_tweets()\n",
    "\n",
    "    \n",
    "    if paras['SHOW_HEAT_MAP'] == True:\n",
    "        heat_map()\n",
    "    size = paras['MASTODON_SIZE']\n",
    "    mastodon(port, size)\n",
    "\n",
    "    \n",
    "    "
   ]
  },
  {
   "cell_type": "markdown",
   "id": "bc2da096-cc1c-4c41-88e7-7ded7d55beb4",
   "metadata": {},
   "source": [
    "## Parameter Descriptions:\n",
    "\n",
    "- `MASTODON_SIZE`: is the number of posts searched from real-time mastodon serve to find the posts may be related to crime.\n",
    "- `SHOW_HEAT_MAP`: Set to `True` if you want to show heat map of crimes in victoria."
   ]
  },
  {
   "cell_type": "code",
   "execution_count": 7,
   "id": "84a89f25-c9c5-4f81-a4ff-b5fc727715af",
   "metadata": {
    "tags": []
   },
   "outputs": [
    {
     "name": "stdout",
     "output_type": "stream",
     "text": [
      "Please check size\n"
     ]
    }
   ],
   "source": [
    "paras = {\n",
    "         'SHOW_HEAT_MAP': False,\n",
    "         'MASTODON_SIZE': 10000,\n",
    "        }\n",
    "main(paras)"
   ]
  }
 ],
 "metadata": {
  "kernelspec": {
   "display_name": "Python 3 (ipykernel)",
   "language": "python",
   "name": "python3"
  },
  "language_info": {
   "codemirror_mode": {
    "name": "ipython",
    "version": 3
   },
   "file_extension": ".py",
   "mimetype": "text/x-python",
   "name": "python",
   "nbconvert_exporter": "python",
   "pygments_lexer": "ipython3",
   "version": "3.11.7"
  }
 },
 "nbformat": 4,
 "nbformat_minor": 5
}
