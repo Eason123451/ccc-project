{
 "cells": [
  {
   "cell_type": "code",
   "execution_count": 2,
   "id": "c162825b-cca3-4b51-83d2-a8c3f344f3fc",
   "metadata": {},
   "outputs": [],
   "source": [
    "from IPython.display import HTML\n",
    "import requests\n",
    "from transformers import pipeline\n"
   ]
  },
  {
   "cell_type": "code",
   "execution_count": 3,
   "id": "f59be567-fc0d-443b-98ae-9553d8647ff3",
   "metadata": {},
   "outputs": [],
   "source": [
    "def main(paras):\n",
    "    if paras['SHOW_HEAT_MAP'] == True:\n",
    "        heat_map()\n",
    "    size = paras['MASTODON_SIZE']\n",
    "    port = paras['MASTODON_PORT']\n",
    "    mastodon(port, size)\n",
    "\n",
    "    \n",
    "    "
   ]
  },
  {
   "cell_type": "code",
   "execution_count": 4,
   "id": "e981fa46-ac89-41e0-b666-3d7ffb4bbf7f",
   "metadata": {},
   "outputs": [],
   "source": [
    "from IPython.display import HTML\n",
    "\n",
    "def heat_map():\n",
    "    viz_url = \"https://public.tableau.com/views/CrimeByAreaMap/CrimebyLocationMap?:language=en-US&publish=yes&:sid=&:display_count=n&:origin=viz_share_link\"\n",
    "    html_code = f'''\n",
    "    <div class='tableauPlaceholder' id='vizContainer' style='position: relative; width: 100%; height: 800px;'>\n",
    "        <noscript><a href='#'>\n",
    "            <img alt='Tableau Visualization' src='{viz_url}.png' style='border: none' />\n",
    "        </a></noscript>\n",
    "        <object class='tableauViz' width='100%' height='800' style='display:none;'>\n",
    "            <param name='host_url' value='https%3A%2F%2Fpublic.tableau.com%2F' /> \n",
    "            <param name='embed_code_version' value='3' /> \n",
    "            <param name='site_root' value='' />\n",
    "            <param name='name' value='CrimeByAreaMap&#47;CrimebyLocationMap' />\n",
    "            <param name='tabs' value='no' />\n",
    "            <param name='toolbar' value='yes' />\n",
    "            <param name='static_image' value='{viz_url}.png' /> \n",
    "            <param name='animate_transition' value='yes' />\n",
    "            <param name='display_static_image' value='yes' />\n",
    "            <param name='display_spinner' value='yes' />\n",
    "            <param name='display_overlay' value='yes' />\n",
    "            <param name='display_count' value='yes' />\n",
    "            <param name='language' value='en-US' />\n",
    "        </object>\n",
    "    </div>\n",
    "    <script type='text/javascript'>\n",
    "        var divElement = document.getElementById('vizContainer');                    \n",
    "        var vizElement = divElement.getElementsByTagName('object')[0];                    \n",
    "        vizElement.style.width = '100%';                    \n",
    "        vizElement.style.height = (divElement.offsetWidth * 0.8) + 'px';                    \n",
    "        var scriptElement = document.createElement('script');                    \n",
    "        scriptElement.src = 'https://public.tableau.com/javascripts/api/viz_v1.js';                    \n",
    "        vizElement.parentNode.insertBefore(scriptElement, vizElement);                \n",
    "    </script>\n",
    "    '''\n",
    "    display(HTML(html_code))"
   ]
  },
  {
   "cell_type": "code",
   "execution_count": 5,
   "id": "7a8c612d-ae3a-494f-aa93-1d01db7da709",
   "metadata": {},
   "outputs": [],
   "source": [
    "def get_mastodon_data(port,size):\n",
    "    fission_url = f\"http://localhost:{port}/mastodon/{size}\"\n",
    "    response = requests.get(fission_url, verify = False)\n",
    "    return response.json()\n",
    "\n",
    "def check_crime_related(content, keywords):\n",
    "    content_lower = content.lower()\n",
    "    return any(keyword in content_lower for keyword in keywords)\n",
    "\n",
    "def mastodon(port, size):\n",
    "    if int(size) <= 0:\n",
    "        return print('Please check size')\n",
    "    data = get_mastodon_data(port,size)\n",
    "    filtered_data = [{'time': item['_source']['created_at'], 'content': item['_source']['content']} for item in data]\n",
    "    crime_keywords = ['crime', 'theft', 'murder', 'assault', 'fraud', 'robbery', 'burglary', 'arson', \n",
    "                  'kidnapping', 'drug', 'trafficking', 'violence','vandalism', 'smuggling', 'extortion', \n",
    "    'blackmail', 'embezzlement', 'bribery', 'corruption', 'homicide', 'manslaughter', 'gang', \n",
    "    'terrorist', 'terrorism', 'assault', 'battery', 'abuse', 'harassment', 'molestation', \n",
    "    'rape', 'domestic violence', 'cybercrime', 'identity theft', 'forgery', 'counterfeit', \n",
    "    'human trafficking', 'organized crime', 'illegal', 'unlawfully', 'laundering', \n",
    "    'money laundering', 'perjury', 'prostitution', 'racket', 'racketeering', 'sabotage', \n",
    "    'scam', 'shoplifting', 'slander', 'stalking', 'swindle', 'terrorism', 'threat', \n",
    "    'trespassing', 'underworld', 'weapon', 'weapons', 'smuggling', 'conspiracy']\n",
    "    crime_related_records = [item for item in filtered_data if check_crime_related(item['content'], crime_keywords)]\n",
    "\n",
    "    classifier = pipeline(\"text-classification\", model=\"distilbert-base-uncased-finetuned-sst-2-english\")\n",
    "    \n",
    "    results = classifier([item['content'] for item in crime_related_records])\n",
    "\n",
    "    if len(crime_related_records) == 0:\n",
    "        print('None of',size,'are related to crime')\n",
    "    else:\n",
    "        print(len(crime_related_records),'of',size,'may be related to crime', '\\n')\n",
    "        for record, result in zip(crime_related_records, results):\n",
    "            print('Time:', record['time'][0:10], record['time'][11:18])\n",
    "            print('Content:',record['content'])\n",
    "            print('Sentiment:', result['label'], '\\n')\n",
    "    \n",
    "    "
   ]
  },
  {
   "cell_type": "code",
   "execution_count": null,
   "id": "9dc1e6b1-e548-4ef7-8342-ab095d845ac9",
   "metadata": {},
   "outputs": [],
   "source": []
  },
  {
   "cell_type": "markdown",
   "id": "bc2da096-cc1c-4c41-88e7-7ded7d55beb4",
   "metadata": {},
   "source": [
    "## Parameter Descriptions:\n",
    "\n",
    "- `MASTODON_SIZE`: is the number of posts searched from real-time mastodon serve to find the posts may be related to crime.\n",
    "- `SHOW_HEAT_MAP`: Set to `True` if you want to show heat map of crimes in victoria."
   ]
  },
  {
   "cell_type": "code",
   "execution_count": 7,
   "id": "84a89f25-c9c5-4f81-a4ff-b5fc727715af",
   "metadata": {
    "tags": []
   },
   "outputs": [
    {
     "name": "stdout",
     "output_type": "stream",
     "text": [
      "Please check size\n"
     ]
    }
   ],
   "source": [
    "paras = {'SHOW_HEAT_MAP': False,\n",
    "         'MASTODON_SIZE': -1.5,\n",
    "         'MASTODON_PORT': 9000,\n",
    "        }\n",
    "main(paras)"
   ]
  }
 ],
 "metadata": {
  "kernelspec": {
   "display_name": "Python 3 (ipykernel)",
   "language": "python",
   "name": "python3"
  },
  "language_info": {
   "codemirror_mode": {
    "name": "ipython",
    "version": 3
   },
   "file_extension": ".py",
   "mimetype": "text/x-python",
   "name": "python",
   "nbconvert_exporter": "python",
   "pygments_lexer": "ipython3",
   "version": "3.11.7"
  }
 },
 "nbformat": 4,
 "nbformat_minor": 5
}
